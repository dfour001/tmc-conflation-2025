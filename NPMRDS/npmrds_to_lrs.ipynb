{
 "cells": [
  {
   "cell_type": "code",
   "execution_count": 1,
   "metadata": {},
   "outputs": [],
   "source": [
    "import geopandas as gp\n",
    "import shapely\n",
    "from shapely.geometry import Point\n",
    "from shapely.ops import transform\n",
    "import pyproj\n",
    "from collections import Counter\n",
    "import arcpy"
   ]
  },
  {
   "cell_type": "code",
   "execution_count": 2,
   "metadata": {},
   "outputs": [],
   "source": [
    "from lrs_tools import gp_lrs\n",
    "from lrs_tools import arcpy_lrs"
   ]
  },
  {
   "cell_type": "code",
   "execution_count": 3,
   "metadata": {},
   "outputs": [],
   "source": [
    "import logging\n",
    "log = logging.getLogger(__name__)\n",
    "log.setLevel(logging.DEBUG) # Set the debug level here\n",
    "fileHandler = logging.FileHandler(f'test.log', mode='w')\n",
    "log.addHandler(fileHandler)"
   ]
  },
  {
   "cell_type": "code",
   "execution_count": 4,
   "metadata": {},
   "outputs": [
    {
     "data": {
      "text/plain": [
       "<module 'lrs_tools.arcpy_lrs' from 'c:\\\\Users\\\\daniel.fourquet\\\\Documents\\\\Tasks\\\\TMC Conflation 2025\\\\NPMRDS\\\\lrs_tools\\\\arcpy_lrs.py'>"
      ]
     },
     "execution_count": 4,
     "metadata": {},
     "output_type": "execute_result"
    }
   ],
   "source": [
    "import importlib\n",
    "importlib.reload(gp_lrs)\n",
    "importlib.reload(arcpy_lrs)"
   ]
  },
  {
   "cell_type": "code",
   "execution_count": 5,
   "metadata": {},
   "outputs": [],
   "source": [
    "# Load lrs to an LRS object\n",
    "lrs_path = r'C:\\Users\\daniel.fourquet\\Documents\\Tasks\\TMC Conflation 2025\\Data\\LRS_MASTER_RICHMOND.shp'\n",
    "\n",
    "# Filter to only include NB and EB routes, excluding PA and Interstates.  Exclude ramps\n",
    "lrs = gp_lrs.LRS(lrs_path, filter=True, ramps=0)\n",
    "\n",
    "# Load lrs overlap to an LRS object\n",
    "lrs_overlap_path = r'C:\\Users\\daniel.fourquet\\Documents\\Tasks\\TMC Conflation 2025\\Data\\LRS_OVERLAP_RICHMOND.shp'\n",
    "\n",
    "# Filter to only include NB and EB routes, excluding PA and Interstates.  Exclude ramps\n",
    "lrs_overlap = gp_lrs.LRS(lrs_overlap_path, filter=True, ramps=0)\n"
   ]
  },
  {
   "cell_type": "code",
   "execution_count": 29,
   "metadata": {},
   "outputs": [
    {
     "name": "stderr",
     "output_type": "stream",
     "text": [
      "c:\\ArcGIS_Python\\arcgispro-py3-fourquet\\lib\\site-packages\\ipykernel_launcher.py:17: FutureWarning: Currently, index_parts defaults to True, but in the future, it will default to False to be consistent with Pandas. Use `index_parts=True` to keep the current behavior and True/False to silence the warning.\n",
      "c:\\ArcGIS_Python\\arcgispro-py3-fourquet\\lib\\site-packages\\geopandas\\geoseries.py:924: ShapelyDeprecationWarning: The 'type' attribute is deprecated, and will be removed in the future. You can use the 'geom_type' attribute instead.\n",
      "  if s.type.startswith(\"Multi\") or s.type == \"GeometryCollection\":\n"
     ]
    }
   ],
   "source": [
    "# Load TMCs to a GeoDataFrame\n",
    "tmcs_path = r'C:\\Users\\daniel.fourquet\\Documents\\Tasks\\TMC Conflation 2025\\NPMRDS\\data\\NPMRDS_medium_test.shp'\n",
    "tmcs = gp.read_file(tmcs_path)\n",
    "tmcs = tmcs[['Tmc', 'RoadNumber', 'RoadName', 'TmcLinear', 'geometry']]\n",
    "tmcs = tmcs.to_crs(epsg=3968)\n",
    "\n",
    "# Calculate begin, end, and mid-points\n",
    "tmcs['begin_point'] = shapely.get_point(tmcs['geometry'], 0)\n",
    "tmcs['end_point'] = shapely.get_point(tmcs['geometry'], -1)\n",
    "def get_midpoint(geom):\n",
    "    return geom.interpolate(0.5, normalized=True)\n",
    "tmcs['mid_point'] = tmcs.geometry.apply(get_midpoint)\n",
    "\n",
    "# Get TMCs dissolved by lineartmc\n",
    "linear_tmcs = tmcs.dissolve(['TmcLinear', 'RoadName']).reset_index()\n",
    "linear_tmcs['geometry'] = shapely.line_merge(linear_tmcs.geometry)\n",
    "linear_tmcs = linear_tmcs.explode()\n",
    "def interpolate(geom, pct):\n",
    "    return geom.interpolate(pct, normalized=True)\n",
    "linear_tmcs['begin_point'] = linear_tmcs.geometry.apply(interpolate, pct=0)\n",
    "linear_tmcs['mid_point'] = linear_tmcs.geometry.apply(interpolate, pct=0.5)\n",
    "linear_tmcs['end_point'] = linear_tmcs.geometry.apply(interpolate, pct=1)\n"
   ]
  },
  {
   "cell_type": "code",
   "execution_count": 30,
   "metadata": {},
   "outputs": [],
   "source": [
    "# Get most common routes near linear tmcs.  Only return results with one match\n",
    "def get_route_list(tmc, test_point_count=None, distance=15, point_threshold=3, lrs=lrs):\n",
    "    log.debug(f'\\n{tmc}')\n",
    "    \n",
    "    if not test_point_count:  # Use begin, mid, and end points if points not supplied\n",
    "        points = (tmc['begin_point'], tmc['mid_point'], tmc['end_point'])\n",
    "    else:\n",
    "        points = [tmc['geometry'].interpolate(x/10, normalized=True) for x in range(test_point_count)]\n",
    "    \n",
    "    log.debug('points:')\n",
    "    for point in points:\n",
    "        log.debug(f'\\t{point}')\n",
    "    routes = Counter()\n",
    "    for point in points:\n",
    "        nearby_routes = gp_lrs.get_nearby_routes(point, distance, lrs)\n",
    "        routes.update(nearby_routes)\n",
    "\n",
    "    # Check for no matches\n",
    "    if len(routes) == 0:\n",
    "        log.debug('\\tNo matches.  Returning None')\n",
    "        return None\n",
    "\n",
    "    log.debug(f'\\tRoutes:  {routes}')\n",
    "\n",
    "    # If the number of points that match with a single route is equal\n",
    "    # to the point_threshold, it is likely a match.  Otherwise a  more\n",
    "    # precise method is needed.\n",
    "    most_common_count = routes.most_common(1)[0][1]\n",
    "    if most_common_count < point_threshold:\n",
    "        log.debug('\\tMost common below threshold.  Returning None')\n",
    "        return None\n",
    "    \n",
    "    most_common_routes = routes.most_common()\n",
    "\n",
    "    # Find the maximum count\n",
    "    max_count = most_common_routes[0][1]\n",
    "\n",
    "    # Filter for elements with the maximum count\n",
    "    result = [element for element, count in most_common_routes if count == max_count]\n",
    "\n",
    "    if len(result) == 1:\n",
    "        log.debug(f'Returning {result[0]}')\n",
    "        return result[0]\n",
    "    \n",
    "    return None\n"
   ]
  },
  {
   "cell_type": "code",
   "execution_count": 31,
   "metadata": {},
   "outputs": [],
   "source": [
    "\n",
    "# Get most common routes\n",
    "log.debug(f'===\\nLinear TMC IDs - get_route_list\\n===')\n",
    "linear_tmcs['rte_nm_match'] = linear_tmcs.apply(get_route_list, axis=1)\n",
    "\n",
    "# Remove null values.  These will need to be matched at the tmc level\n",
    "linear_tmcs = linear_tmcs.loc[linear_tmcs['rte_nm_match'].notnull()].copy()\n",
    "\n",
    "# Reduce to only needed columns to join back to the tmc dataframe\n",
    "linear_tmcs = linear_tmcs.reset_index()[['TmcLinear', 'RoadName', 'rte_nm_match']].drop_duplicates()\n",
    "\n",
    "# Remove any linear tmc id that appears more than once\n",
    "linear_tmcs = linear_tmcs[~linear_tmcs.duplicated(['TmcLinear', 'RoadName'], keep=False)]"
   ]
  },
  {
   "cell_type": "code",
   "execution_count": 32,
   "metadata": {},
   "outputs": [],
   "source": [
    "# Join tmcs and linear_tmcs by TmcLinear\n",
    "tmcs = tmcs.merge(linear_tmcs, how='left', on=['TmcLinear', 'RoadName'])"
   ]
  },
  {
   "cell_type": "code",
   "execution_count": 33,
   "metadata": {},
   "outputs": [
    {
     "name": "stdout",
     "output_type": "stream",
     "text": [
      "Remaining null values: 68\n"
     ]
    }
   ],
   "source": [
    "print(f\"Remaining null values: {len(tmcs.loc[tmcs['rte_nm_match'].isnull()])}\")"
   ]
  },
  {
   "cell_type": "code",
   "execution_count": 34,
   "metadata": {},
   "outputs": [
    {
     "name": "stdout",
     "output_type": "stream",
     "text": [
      "Remaining null values: 21\n"
     ]
    }
   ],
   "source": [
    "# Match by TMC, but only on tmcs where rte_nm_match is null\n",
    "tmcs_no_match = tmcs.loc[tmcs['rte_nm_match'].isnull()].copy()\n",
    "\n",
    "log.debug(f'===\\TMCs - get_route_list\\n===')\n",
    "tmcs_no_match['rte_nm_match'] = tmcs_no_match.apply(get_route_list, axis=1)\n",
    "tmcs_no_match = tmcs_no_match[['Tmc', 'rte_nm_match']]\n",
    "\n",
    "# Join back to main tmcs\n",
    "tmcs = tmcs.merge(tmcs_no_match, how='left', on='Tmc', suffixes=('', '_new')).fillna(tmcs_no_match)\n",
    "tmcs.loc[tmcs['rte_nm_match'].isnull(), 'rte_nm_match'] = tmcs['rte_nm_match_new']\n",
    "tmcs.drop(columns='rte_nm_match_new', axis=1, inplace=True)\n",
    "\n",
    "print(f\"Remaining null values: {len(tmcs.loc[tmcs['rte_nm_match'].isnull()])}\")"
   ]
  },
  {
   "cell_type": "code",
   "execution_count": 35,
   "metadata": {},
   "outputs": [
    {
     "name": "stdout",
     "output_type": "stream",
     "text": [
      "Remaining null values: 20\n"
     ]
    }
   ],
   "source": [
    "# Match by TMC again with a lower search radius, but only on tmcs where rte_nm_match is null\n",
    "tmcs_no_match = tmcs.loc[tmcs['rte_nm_match'].isnull()].copy()\n",
    "\n",
    "log.debug(f'===\\TMCs - get_route_list - low search radius\\n===')\n",
    "tmcs_no_match['rte_nm_match'] = tmcs_no_match.apply(get_route_list, distance=5, axis=1)\n",
    "tmcs_no_match = tmcs_no_match[['Tmc', 'rte_nm_match']]\n",
    "\n",
    "# Join back to main tmcs\n",
    "tmcs = tmcs.merge(tmcs_no_match, how='left', on='Tmc', suffixes=('', '_new')).fillna(tmcs_no_match)\n",
    "tmcs.loc[tmcs['rte_nm_match'].isnull(), 'rte_nm_match'] = tmcs['rte_nm_match_new']\n",
    "tmcs.drop(columns='rte_nm_match_new', axis=1, inplace=True)\n",
    "\n",
    "print(f\"Remaining null values: {len(tmcs.loc[tmcs['rte_nm_match'].isnull()])}\")"
   ]
  },
  {
   "cell_type": "code",
   "execution_count": 36,
   "metadata": {},
   "outputs": [
    {
     "name": "stdout",
     "output_type": "stream",
     "text": [
      "Remaining null values: 14\n"
     ]
    }
   ],
   "source": [
    "# Match by TMC again with a higher search radius, but only on tmcs where rte_nm_match is null\n",
    "tmcs_no_match = tmcs.loc[tmcs['rte_nm_match'].isnull()].copy()\n",
    "\n",
    "log.debug(f'===\\TMCs - get_route_list - low search radius\\n===')\n",
    "tmcs_no_match['rte_nm_match'] = tmcs_no_match.apply(get_route_list, distance=25, axis=1)\n",
    "tmcs_no_match = tmcs_no_match[['Tmc', 'rte_nm_match']]\n",
    "\n",
    "# Join back to main tmcs\n",
    "tmcs = tmcs.merge(tmcs_no_match, how='left', on='Tmc', suffixes=('', '_new')).fillna(tmcs_no_match)\n",
    "tmcs.loc[tmcs['rte_nm_match'].isnull(), 'rte_nm_match'] = tmcs['rte_nm_match_new']\n",
    "tmcs.drop(columns='rte_nm_match_new', axis=1, inplace=True)\n",
    "\n",
    "print(f\"Remaining null values: {len(tmcs.loc[tmcs['rte_nm_match'].isnull()])}\")"
   ]
  },
  {
   "cell_type": "code",
   "execution_count": 37,
   "metadata": {},
   "outputs": [
    {
     "name": "stdout",
     "output_type": "stream",
     "text": [
      "Remaining null values: 11\n"
     ]
    }
   ],
   "source": [
    "# Match by TMC again, but using the overlap lrs instead\n",
    "tmcs_no_match = tmcs.loc[tmcs['rte_nm_match'].isnull()].copy()\n",
    "\n",
    "log.debug(f'===\\TMCs - get_route_list - overlap LRS\\n===')\n",
    "tmcs_no_match['rte_nm_match'] = tmcs_no_match.apply(get_route_list, distance=25, lrs=lrs_overlap, axis=1)\n",
    "tmcs_no_match = tmcs_no_match[['Tmc', 'rte_nm_match']]\n",
    "\n",
    "# Join back to main tmcs\n",
    "tmcs = tmcs.merge(tmcs_no_match, how='left', on='Tmc', suffixes=('', '_new')).fillna(tmcs_no_match)\n",
    "tmcs.loc[tmcs['rte_nm_match'].isnull(), 'rte_nm_match'] = tmcs['rte_nm_match_new']\n",
    "tmcs.drop(columns='rte_nm_match_new', axis=1, inplace=True)\n",
    "\n",
    "print(f\"Remaining null values: {len(tmcs.loc[tmcs['rte_nm_match'].isnull()])}\")"
   ]
  },
  {
   "cell_type": "code",
   "execution_count": 38,
   "metadata": {},
   "outputs": [
    {
     "name": "stdout",
     "output_type": "stream",
     "text": [
      "Remaining null values: 3\n"
     ]
    }
   ],
   "source": [
    "# Match by TMC again, but using 5 points along the length of the tmc\n",
    "# instead of begin, mid, and end points\n",
    "tmcs_no_match = tmcs.loc[tmcs['rte_nm_match'].isnull()].copy()\n",
    "\n",
    "log.debug(f'===\\TMCs - get_route_list - 5 points\\n===')\n",
    "tmcs_no_match['rte_nm_match'] = tmcs_no_match.apply(get_route_list, test_point_count=5, point_threshold=4, axis=1)\n",
    "tmcs_no_match = tmcs_no_match[['Tmc', 'rte_nm_match']]\n",
    "\n",
    "# Join back to main tmcs\n",
    "tmcs = tmcs.merge(tmcs_no_match, how='left', on='Tmc', suffixes=('', '_new')).fillna(tmcs_no_match)\n",
    "tmcs.loc[tmcs['rte_nm_match'].isnull(), 'rte_nm_match'] = tmcs['rte_nm_match_new']\n",
    "tmcs.drop(columns='rte_nm_match_new', axis=1, inplace=True)\n",
    "\n",
    "print(f\"Remaining null values: {len(tmcs.loc[tmcs['rte_nm_match'].isnull()])}\")"
   ]
  },
  {
   "cell_type": "code",
   "execution_count": 39,
   "metadata": {},
   "outputs": [
    {
     "data": {
      "text/html": [
       "<div>\n",
       "<style scoped>\n",
       "    .dataframe tbody tr th:only-of-type {\n",
       "        vertical-align: middle;\n",
       "    }\n",
       "\n",
       "    .dataframe tbody tr th {\n",
       "        vertical-align: top;\n",
       "    }\n",
       "\n",
       "    .dataframe thead th {\n",
       "        text-align: right;\n",
       "    }\n",
       "</style>\n",
       "<table border=\"1\" class=\"dataframe\">\n",
       "  <thead>\n",
       "    <tr style=\"text-align: right;\">\n",
       "      <th></th>\n",
       "      <th>Tmc</th>\n",
       "      <th>RoadNumber</th>\n",
       "      <th>RoadName</th>\n",
       "      <th>TmcLinear</th>\n",
       "      <th>geometry</th>\n",
       "      <th>begin_point</th>\n",
       "      <th>end_point</th>\n",
       "      <th>mid_point</th>\n",
       "      <th>rte_nm_match</th>\n",
       "    </tr>\n",
       "  </thead>\n",
       "  <tbody>\n",
       "    <tr>\n",
       "      <th>228</th>\n",
       "      <td>110N04846</td>\n",
       "      <td>195</td>\n",
       "      <td>I-195 S</td>\n",
       "      <td>124</td>\n",
       "      <td>LINESTRING (178168.742 174152.284, 178184.931 ...</td>\n",
       "      <td>POINT (178168.742 174152.284)</td>\n",
       "      <td>POINT (178424.828 173918.117)</td>\n",
       "      <td>POINT (178287.166 174024.355)</td>\n",
       "      <td>NaN</td>\n",
       "    </tr>\n",
       "    <tr>\n",
       "      <th>270</th>\n",
       "      <td>110N18081</td>\n",
       "      <td>10</td>\n",
       "      <td>BROAD ROCK BLVD</td>\n",
       "      <td>1658</td>\n",
       "      <td>LINESTRING (178747.817 166577.194, 178738.382 ...</td>\n",
       "      <td>POINT (178747.817 166577.194)</td>\n",
       "      <td>POINT (178738.382 166563.669)</td>\n",
       "      <td>POINT (178743.100 166570.431)</td>\n",
       "      <td>NaN</td>\n",
       "    </tr>\n",
       "    <tr>\n",
       "      <th>325</th>\n",
       "      <td>110P15764</td>\n",
       "      <td>NaN</td>\n",
       "      <td>74A</td>\n",
       "      <td>15763</td>\n",
       "      <td>LINESTRING (182913.002 172315.720, 182906.629 ...</td>\n",
       "      <td>POINT (182913.002 172315.720)</td>\n",
       "      <td>POINT (182738.892 172156.430)</td>\n",
       "      <td>POINT (182869.714 172179.768)</td>\n",
       "      <td>NaN</td>\n",
       "    </tr>\n",
       "  </tbody>\n",
       "</table>\n",
       "</div>"
      ],
      "text/plain": [
       "           Tmc RoadNumber         RoadName  TmcLinear  \\\n",
       "228  110N04846        195          I-195 S        124   \n",
       "270  110N18081         10  BROAD ROCK BLVD       1658   \n",
       "325  110P15764        NaN              74A      15763   \n",
       "\n",
       "                                              geometry  \\\n",
       "228  LINESTRING (178168.742 174152.284, 178184.931 ...   \n",
       "270  LINESTRING (178747.817 166577.194, 178738.382 ...   \n",
       "325  LINESTRING (182913.002 172315.720, 182906.629 ...   \n",
       "\n",
       "                       begin_point                      end_point  \\\n",
       "228  POINT (178168.742 174152.284)  POINT (178424.828 173918.117)   \n",
       "270  POINT (178747.817 166577.194)  POINT (178738.382 166563.669)   \n",
       "325  POINT (182913.002 172315.720)  POINT (182738.892 172156.430)   \n",
       "\n",
       "                         mid_point rte_nm_match  \n",
       "228  POINT (178287.166 174024.355)          NaN  \n",
       "270  POINT (178743.100 166570.431)          NaN  \n",
       "325  POINT (182869.714 172179.768)          NaN  "
      ]
     },
     "execution_count": 39,
     "metadata": {},
     "output_type": "execute_result"
    }
   ],
   "source": [
    "tmcs.loc[tmcs['rte_nm_match'].isnull()]"
   ]
  },
  {
   "cell_type": "code",
   "execution_count": 40,
   "metadata": {},
   "outputs": [
    {
     "data": {
      "text/html": [
       "<div>\n",
       "<style scoped>\n",
       "    .dataframe tbody tr th:only-of-type {\n",
       "        vertical-align: middle;\n",
       "    }\n",
       "\n",
       "    .dataframe tbody tr th {\n",
       "        vertical-align: top;\n",
       "    }\n",
       "\n",
       "    .dataframe thead th {\n",
       "        text-align: right;\n",
       "    }\n",
       "</style>\n",
       "<table border=\"1\" class=\"dataframe\">\n",
       "  <thead>\n",
       "    <tr style=\"text-align: right;\">\n",
       "      <th></th>\n",
       "      <th>LRM_CURREN</th>\n",
       "      <th>RTE_NM</th>\n",
       "      <th>RTE_COMMON</th>\n",
       "      <th>RTE_CATEGO</th>\n",
       "      <th>RTE_JURIS_</th>\n",
       "      <th>RTE_JURIS1</th>\n",
       "      <th>RTE_NBR</th>\n",
       "      <th>RTE_TYPE_C</th>\n",
       "      <th>RTE_TYPE_N</th>\n",
       "      <th>RTE_TYPE_M</th>\n",
       "      <th>...</th>\n",
       "      <th>RTE_SOUR_1</th>\n",
       "      <th>RTE_RAMP_D</th>\n",
       "      <th>RTE_DSC</th>\n",
       "      <th>RTE_MEASUR</th>\n",
       "      <th>ROUTESYSID</th>\n",
       "      <th>CHANGE_STA</th>\n",
       "      <th>CHANGE_S_1</th>\n",
       "      <th>LEN</th>\n",
       "      <th>SHAPE_Leng</th>\n",
       "      <th>geometry</th>\n",
       "    </tr>\n",
       "  </thead>\n",
       "  <tbody>\n",
       "    <tr>\n",
       "      <th>459</th>\n",
       "      <td>2022-11-18</td>\n",
       "      <td>R-VA   SR00197EB</td>\n",
       "      <td>VA-197E</td>\n",
       "      <td>State Highway Primary</td>\n",
       "      <td>None</td>\n",
       "      <td>None</td>\n",
       "      <td>197</td>\n",
       "      <td>SR</td>\n",
       "      <td>State Route</td>\n",
       "      <td>None</td>\n",
       "      <td>...</td>\n",
       "      <td>SR00197</td>\n",
       "      <td>None</td>\n",
       "      <td>HTRIS Route ID: &lt;  SR00197     &gt;</td>\n",
       "      <td>OSM</td>\n",
       "      <td>SR00197</td>\n",
       "      <td>CL</td>\n",
       "      <td>2023-01-27</td>\n",
       "      <td>0.0</td>\n",
       "      <td>7244.429378</td>\n",
       "      <td>MULTILINESTRING ((177130.443 174935.448, 17721...</td>\n",
       "    </tr>\n",
       "  </tbody>\n",
       "</table>\n",
       "<p>1 rows × 49 columns</p>\n",
       "</div>"
      ],
      "text/plain": [
       "     LRM_CURREN            RTE_NM RTE_COMMON             RTE_CATEGO  \\\n",
       "459  2022-11-18  R-VA   SR00197EB    VA-197E  State Highway Primary   \n",
       "\n",
       "    RTE_JURIS_ RTE_JURIS1  RTE_NBR RTE_TYPE_C   RTE_TYPE_N RTE_TYPE_M  ...  \\\n",
       "459       None       None      197         SR  State Route       None  ...   \n",
       "\n",
       "    RTE_SOUR_1  RTE_RAMP_D                           RTE_DSC RTE_MEASUR  \\\n",
       "459    SR00197        None  HTRIS Route ID: <  SR00197     >        OSM   \n",
       "\n",
       "     ROUTESYSID CHANGE_STA  CHANGE_S_1  LEN   SHAPE_Leng  \\\n",
       "459     SR00197         CL  2023-01-27  0.0  7244.429378   \n",
       "\n",
       "                                              geometry  \n",
       "459  MULTILINESTRING ((177130.443 174935.448, 17721...  \n",
       "\n",
       "[1 rows x 49 columns]"
      ]
     },
     "execution_count": 40,
     "metadata": {},
     "output_type": "execute_result"
    }
   ],
   "source": [
    "lrs.geodataframe.loc[lrs.geodataframe['RTE_NM'] == 'R-VA   SR00197EB']"
   ]
  }
 ],
 "metadata": {
  "kernelspec": {
   "display_name": "Python 3.7.11 64-bit ('arcgispro-py3')",
   "language": "python",
   "name": "python3"
  },
  "language_info": {
   "codemirror_mode": {
    "name": "ipython",
    "version": 3
   },
   "file_extension": ".py",
   "mimetype": "text/x-python",
   "name": "python",
   "nbconvert_exporter": "python",
   "pygments_lexer": "ipython3",
   "version": "3.7.11"
  },
  "orig_nbformat": 4,
  "vscode": {
   "interpreter": {
    "hash": "ce21b655b4d6c9e397d5ad93d5666c623f49909f6d0cc2f72076dafcf1b3ecfb"
   }
  }
 },
 "nbformat": 4,
 "nbformat_minor": 2
}
